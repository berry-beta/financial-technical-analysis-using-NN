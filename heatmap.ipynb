{
 "cells": [
  {
   "cell_type": "code",
   "execution_count": 1,
   "metadata": {},
   "outputs": [],
   "source": [
    "import pandas as pd\n",
    "import matplotlib.pyplot as plt\n",
    "import seaborn as sns\n",
    "import scraper\n",
    "import ta\n",
    "from sklearn.preprocessing import MinMaxScaler\n",
    "from sklearn.preprocessing import MaxAbsScaler"
   ]
  },
  {
   "cell_type": "code",
   "execution_count": 2,
   "metadata": {},
   "outputs": [],
   "source": [
    "def fetch_csv(directory='/home/jupyter/',ticker='AMZN'):\n",
    "    try:\n",
    "        data = pd.read_csv(directory+'data-'+ticker+'.csv',sep='\\t') \n",
    "    except Exception:\n",
    "        print('Reading csv for ticker %s failed' %ticker)\n",
    "        try:\n",
    "            scraper.somethingScraper(directory=directory, ticker=ticker)\n",
    "        except Exception:\n",
    "            print('Scrapping failed for ticker %s ' %ticker)\n",
    "            data = pd.dataframe()\n",
    "        else:\n",
    "            data = pd.read_csv(directory+'data-'+ticker+'.csv',sep='\\t')\n",
    "    else:\n",
    "        print('Read csv for ticker %s successful' %ticker)\n",
    "    \n",
    "    return data"
   ]
  },
  {
   "cell_type": "code",
   "execution_count": 3,
   "metadata": {},
   "outputs": [
    {
     "name": "stdout",
     "output_type": "stream",
     "text": [
      "Read csv for ticker AMZN successful\n"
     ]
    }
   ],
   "source": [
    "df = fetch_csv()"
   ]
  },
  {
   "cell_type": "code",
   "execution_count": 4,
   "metadata": {},
   "outputs": [
    {
     "name": "stderr",
     "output_type": "stream",
     "text": [
      "/opt/conda/lib/python3.7/site-packages/ta/trend.py:608: RuntimeWarning: invalid value encountered in double_scalars\n",
      "  dip[i] = 100 * (self._dip[i]/self._trs[i])\n",
      "/opt/conda/lib/python3.7/site-packages/ta/trend.py:612: RuntimeWarning: invalid value encountered in double_scalars\n",
      "  din[i] = 100 * (self._din[i]/self._trs[i])\n"
     ]
    }
   ],
   "source": [
    "data = ta.add_all_ta_features(df, open=\"Open\", high=\"High\", low=\"Low\", close=\"Close\", volume=\"Volume\",fillna=False)"
   ]
  },
  {
   "cell_type": "code",
   "execution_count": 33,
   "metadata": {},
   "outputs": [],
   "source": [
    "#pd.DataFrame(data.isna().sum(axis = 0))"
   ]
  },
  {
   "cell_type": "code",
   "execution_count": 5,
   "metadata": {},
   "outputs": [
    {
     "data": {
      "text/plain": [
       "51"
      ]
     },
     "execution_count": 5,
     "metadata": {},
     "output_type": "execute_result"
    }
   ],
   "source": [
    "data.isna().any().sum()"
   ]
  },
  {
   "cell_type": "code",
   "execution_count": 32,
   "metadata": {},
   "outputs": [],
   "source": [
    "#pd.DataFrame(data.isna().sum(axis = 0)).tail(40)"
   ]
  },
  {
   "cell_type": "code",
   "execution_count": 6,
   "metadata": {},
   "outputs": [],
   "source": [
    "data = data.drop(data.head(50).index)\n",
    "data = data.drop(['trend_psar_up','trend_psar_down','Adj Close'],axis=1,inplace=False)"
   ]
  },
  {
   "cell_type": "code",
   "execution_count": 7,
   "metadata": {},
   "outputs": [
    {
     "data": {
      "text/plain": [
       "1"
      ]
     },
     "execution_count": 7,
     "metadata": {},
     "output_type": "execute_result"
    }
   ],
   "source": [
    "data.isna().any().sum()"
   ]
  },
  {
   "cell_type": "code",
   "execution_count": 31,
   "metadata": {},
   "outputs": [],
   "source": [
    "#pd.DataFrame(data.isna().sum(axis = 0)).head(40)"
   ]
  },
  {
   "cell_type": "code",
   "execution_count": 30,
   "metadata": {},
   "outputs": [],
   "source": [
    "#pd.DataFrame(data.isna().sum(axis = 0)).tail(40)"
   ]
  },
  {
   "cell_type": "code",
   "execution_count": 56,
   "metadata": {},
   "outputs": [],
   "source": [
    "#data.describe().to_csv('describe.csv')"
   ]
  },
  {
   "cell_type": "code",
   "execution_count": 8,
   "metadata": {},
   "outputs": [
    {
     "data": {
      "text/plain": [
       "(5763, 76)"
      ]
     },
     "execution_count": 8,
     "metadata": {},
     "output_type": "execute_result"
    }
   ],
   "source": [
    "data.shape"
   ]
  },
  {
   "cell_type": "code",
   "execution_count": 22,
   "metadata": {},
   "outputs": [
    {
     "data": {
      "text/plain": [
       "(76, 76)"
      ]
     },
     "execution_count": 22,
     "metadata": {},
     "output_type": "execute_result"
    }
   ],
   "source": [
    "extract = data.head(76)\n",
    "extract.shape"
   ]
  },
  {
   "cell_type": "code",
   "execution_count": 16,
   "metadata": {},
   "outputs": [],
   "source": [
    "def scale_0_1(df):\n",
    "    df = df.copy()\n",
    "    scaler = MinMaxScaler()\n",
    "    df[df.select_dtypes(exclude='object').columns]=scaler.fit_transform(df[df.select_dtypes(exclude='object').columns])\n",
    "    return df"
   ]
  },
  {
   "cell_type": "code",
   "execution_count": 15,
   "metadata": {},
   "outputs": [],
   "source": [
    "def scale_1_1(df):\n",
    "    df = df.copy()\n",
    "    scaler = MaxAbsScaler()\n",
    "    df[df.select_dtypes(exclude='object').columns]=scaler.fit_transform(df[df.select_dtypes(exclude='object').columns])\n",
    "    return df"
   ]
  },
  {
   "cell_type": "code",
   "execution_count": 23,
   "metadata": {},
   "outputs": [],
   "source": [
    "extract = scale_1_1(extract)"
   ]
  },
  {
   "cell_type": "code",
   "execution_count": 18,
   "metadata": {},
   "outputs": [
    {
     "data": {
      "text/html": [
       "<div>\n",
       "<style scoped>\n",
       "    .dataframe tbody tr th:only-of-type {\n",
       "        vertical-align: middle;\n",
       "    }\n",
       "\n",
       "    .dataframe tbody tr th {\n",
       "        vertical-align: top;\n",
       "    }\n",
       "\n",
       "    .dataframe thead th {\n",
       "        text-align: right;\n",
       "    }\n",
       "</style>\n",
       "<table border=\"1\" class=\"dataframe\">\n",
       "  <thead>\n",
       "    <tr style=\"text-align: right;\">\n",
       "      <th></th>\n",
       "      <th>Open</th>\n",
       "      <th>High</th>\n",
       "      <th>Low</th>\n",
       "      <th>Close</th>\n",
       "      <th>Volume</th>\n",
       "      <th>volume_adi</th>\n",
       "      <th>volume_obv</th>\n",
       "      <th>volume_cmf</th>\n",
       "      <th>volume_fi</th>\n",
       "      <th>momentum_mfi</th>\n",
       "      <th>...</th>\n",
       "      <th>momentum_uo</th>\n",
       "      <th>momentum_stoch</th>\n",
       "      <th>momentum_stoch_signal</th>\n",
       "      <th>momentum_wr</th>\n",
       "      <th>momentum_ao</th>\n",
       "      <th>momentum_kama</th>\n",
       "      <th>momentum_roc</th>\n",
       "      <th>others_dr</th>\n",
       "      <th>others_dlr</th>\n",
       "      <th>others_cr</th>\n",
       "    </tr>\n",
       "  </thead>\n",
       "  <tbody>\n",
       "    <tr>\n",
       "      <th>count</th>\n",
       "      <td>20.000000</td>\n",
       "      <td>20.000000</td>\n",
       "      <td>20.000000</td>\n",
       "      <td>20.000000</td>\n",
       "      <td>20.000000</td>\n",
       "      <td>20.000000</td>\n",
       "      <td>20.000000</td>\n",
       "      <td>20.000000</td>\n",
       "      <td>20.000000</td>\n",
       "      <td>20.000000</td>\n",
       "      <td>...</td>\n",
       "      <td>20.000000</td>\n",
       "      <td>20.000000</td>\n",
       "      <td>20.000000</td>\n",
       "      <td>20.000000</td>\n",
       "      <td>20.000000</td>\n",
       "      <td>20.000000</td>\n",
       "      <td>20.000000</td>\n",
       "      <td>20.000000</td>\n",
       "      <td>20.000000</td>\n",
       "      <td>20.000000</td>\n",
       "    </tr>\n",
       "    <tr>\n",
       "      <th>mean</th>\n",
       "      <td>0.897917</td>\n",
       "      <td>0.915904</td>\n",
       "      <td>0.893240</td>\n",
       "      <td>0.905777</td>\n",
       "      <td>0.377044</td>\n",
       "      <td>-0.891724</td>\n",
       "      <td>0.951745</td>\n",
       "      <td>0.551949</td>\n",
       "      <td>0.272310</td>\n",
       "      <td>0.706732</td>\n",
       "      <td>...</td>\n",
       "      <td>0.893854</td>\n",
       "      <td>0.549979</td>\n",
       "      <td>0.574882</td>\n",
       "      <td>-0.617743</td>\n",
       "      <td>0.388297</td>\n",
       "      <td>0.987971</td>\n",
       "      <td>-0.150993</td>\n",
       "      <td>-0.026457</td>\n",
       "      <td>-0.036757</td>\n",
       "      <td>0.551500</td>\n",
       "    </tr>\n",
       "    <tr>\n",
       "      <th>std</th>\n",
       "      <td>0.048052</td>\n",
       "      <td>0.049935</td>\n",
       "      <td>0.051398</td>\n",
       "      <td>0.049684</td>\n",
       "      <td>0.233779</td>\n",
       "      <td>0.049842</td>\n",
       "      <td>0.021769</td>\n",
       "      <td>0.279553</td>\n",
       "      <td>0.317000</td>\n",
       "      <td>0.183747</td>\n",
       "      <td>...</td>\n",
       "      <td>0.053722</td>\n",
       "      <td>0.255406</td>\n",
       "      <td>0.226941</td>\n",
       "      <td>0.246829</td>\n",
       "      <td>0.505564</td>\n",
       "      <td>0.012067</td>\n",
       "      <td>0.521884</td>\n",
       "      <td>0.535308</td>\n",
       "      <td>0.549780</td>\n",
       "      <td>0.236493</td>\n",
       "    </tr>\n",
       "    <tr>\n",
       "      <th>min</th>\n",
       "      <td>0.820833</td>\n",
       "      <td>0.819127</td>\n",
       "      <td>0.798283</td>\n",
       "      <td>0.823529</td>\n",
       "      <td>0.118644</td>\n",
       "      <td>-1.000000</td>\n",
       "      <td>0.917155</td>\n",
       "      <td>-0.028585</td>\n",
       "      <td>-0.035021</td>\n",
       "      <td>0.351908</td>\n",
       "      <td>...</td>\n",
       "      <td>0.794962</td>\n",
       "      <td>0.154439</td>\n",
       "      <td>0.247867</td>\n",
       "      <td>-1.000000</td>\n",
       "      <td>-0.375526</td>\n",
       "      <td>0.966300</td>\n",
       "      <td>-1.000000</td>\n",
       "      <td>-0.831467</td>\n",
       "      <td>-0.884088</td>\n",
       "      <td>0.160001</td>\n",
       "    </tr>\n",
       "    <tr>\n",
       "      <th>25%</th>\n",
       "      <td>0.863542</td>\n",
       "      <td>0.879418</td>\n",
       "      <td>0.860515</td>\n",
       "      <td>0.872899</td>\n",
       "      <td>0.208188</td>\n",
       "      <td>-0.931124</td>\n",
       "      <td>0.935924</td>\n",
       "      <td>0.337095</td>\n",
       "      <td>0.030094</td>\n",
       "      <td>0.609694</td>\n",
       "      <td>...</td>\n",
       "      <td>0.861052</td>\n",
       "      <td>0.355151</td>\n",
       "      <td>0.424210</td>\n",
       "      <td>-0.806028</td>\n",
       "      <td>-0.011926</td>\n",
       "      <td>0.977700</td>\n",
       "      <td>-0.478070</td>\n",
       "      <td>-0.388480</td>\n",
       "      <td>-0.406848</td>\n",
       "      <td>0.395001</td>\n",
       "    </tr>\n",
       "    <tr>\n",
       "      <th>50%</th>\n",
       "      <td>0.891667</td>\n",
       "      <td>0.918919</td>\n",
       "      <td>0.888412</td>\n",
       "      <td>0.888655</td>\n",
       "      <td>0.316924</td>\n",
       "      <td>-0.891800</td>\n",
       "      <td>0.949850</td>\n",
       "      <td>0.574731</td>\n",
       "      <td>0.154613</td>\n",
       "      <td>0.743738</td>\n",
       "      <td>...</td>\n",
       "      <td>0.895526</td>\n",
       "      <td>0.554172</td>\n",
       "      <td>0.545161</td>\n",
       "      <td>-0.613690</td>\n",
       "      <td>0.368158</td>\n",
       "      <td>0.991649</td>\n",
       "      <td>-0.105235</td>\n",
       "      <td>-0.093697</td>\n",
       "      <td>-0.097430</td>\n",
       "      <td>0.470000</td>\n",
       "    </tr>\n",
       "    <tr>\n",
       "      <th>75%</th>\n",
       "      <td>0.934375</td>\n",
       "      <td>0.957900</td>\n",
       "      <td>0.927039</td>\n",
       "      <td>0.937500</td>\n",
       "      <td>0.525860</td>\n",
       "      <td>-0.857620</td>\n",
       "      <td>0.963795</td>\n",
       "      <td>0.682128</td>\n",
       "      <td>0.444049</td>\n",
       "      <td>0.804626</td>\n",
       "      <td>...</td>\n",
       "      <td>0.922093</td>\n",
       "      <td>0.665954</td>\n",
       "      <td>0.698344</td>\n",
       "      <td>-0.505662</td>\n",
       "      <td>0.895056</td>\n",
       "      <td>0.998289</td>\n",
       "      <td>0.204442</td>\n",
       "      <td>0.247511</td>\n",
       "      <td>0.253627</td>\n",
       "      <td>0.702500</td>\n",
       "    </tr>\n",
       "    <tr>\n",
       "      <th>max</th>\n",
       "      <td>1.000000</td>\n",
       "      <td>1.000000</td>\n",
       "      <td>1.000000</td>\n",
       "      <td>1.000000</td>\n",
       "      <td>1.000000</td>\n",
       "      <td>-0.808130</td>\n",
       "      <td>1.000000</td>\n",
       "      <td>1.000000</td>\n",
       "      <td>1.000000</td>\n",
       "      <td>1.000000</td>\n",
       "      <td>...</td>\n",
       "      <td>1.000000</td>\n",
       "      <td>1.000000</td>\n",
       "      <td>1.000000</td>\n",
       "      <td>-0.182834</td>\n",
       "      <td>1.000000</td>\n",
       "      <td>1.000000</td>\n",
       "      <td>0.989959</td>\n",
       "      <td>1.000000</td>\n",
       "      <td>1.000000</td>\n",
       "      <td>1.000000</td>\n",
       "    </tr>\n",
       "  </tbody>\n",
       "</table>\n",
       "<p>8 rows × 75 columns</p>\n",
       "</div>"
      ],
      "text/plain": [
       "            Open       High        Low      Close     Volume  volume_adi  \\\n",
       "count  20.000000  20.000000  20.000000  20.000000  20.000000   20.000000   \n",
       "mean    0.897917   0.915904   0.893240   0.905777   0.377044   -0.891724   \n",
       "std     0.048052   0.049935   0.051398   0.049684   0.233779    0.049842   \n",
       "min     0.820833   0.819127   0.798283   0.823529   0.118644   -1.000000   \n",
       "25%     0.863542   0.879418   0.860515   0.872899   0.208188   -0.931124   \n",
       "50%     0.891667   0.918919   0.888412   0.888655   0.316924   -0.891800   \n",
       "75%     0.934375   0.957900   0.927039   0.937500   0.525860   -0.857620   \n",
       "max     1.000000   1.000000   1.000000   1.000000   1.000000   -0.808130   \n",
       "\n",
       "       volume_obv  volume_cmf  volume_fi  momentum_mfi  ...  momentum_uo  \\\n",
       "count   20.000000   20.000000  20.000000     20.000000  ...    20.000000   \n",
       "mean     0.951745    0.551949   0.272310      0.706732  ...     0.893854   \n",
       "std      0.021769    0.279553   0.317000      0.183747  ...     0.053722   \n",
       "min      0.917155   -0.028585  -0.035021      0.351908  ...     0.794962   \n",
       "25%      0.935924    0.337095   0.030094      0.609694  ...     0.861052   \n",
       "50%      0.949850    0.574731   0.154613      0.743738  ...     0.895526   \n",
       "75%      0.963795    0.682128   0.444049      0.804626  ...     0.922093   \n",
       "max      1.000000    1.000000   1.000000      1.000000  ...     1.000000   \n",
       "\n",
       "       momentum_stoch  momentum_stoch_signal  momentum_wr  momentum_ao  \\\n",
       "count       20.000000              20.000000    20.000000    20.000000   \n",
       "mean         0.549979               0.574882    -0.617743     0.388297   \n",
       "std          0.255406               0.226941     0.246829     0.505564   \n",
       "min          0.154439               0.247867    -1.000000    -0.375526   \n",
       "25%          0.355151               0.424210    -0.806028    -0.011926   \n",
       "50%          0.554172               0.545161    -0.613690     0.368158   \n",
       "75%          0.665954               0.698344    -0.505662     0.895056   \n",
       "max          1.000000               1.000000    -0.182834     1.000000   \n",
       "\n",
       "       momentum_kama  momentum_roc  others_dr  others_dlr  others_cr  \n",
       "count      20.000000     20.000000  20.000000   20.000000  20.000000  \n",
       "mean        0.987971     -0.150993  -0.026457   -0.036757   0.551500  \n",
       "std         0.012067      0.521884   0.535308    0.549780   0.236493  \n",
       "min         0.966300     -1.000000  -0.831467   -0.884088   0.160001  \n",
       "25%         0.977700     -0.478070  -0.388480   -0.406848   0.395001  \n",
       "50%         0.991649     -0.105235  -0.093697   -0.097430   0.470000  \n",
       "75%         0.998289      0.204442   0.247511    0.253627   0.702500  \n",
       "max         1.000000      0.989959   1.000000    1.000000   1.000000  \n",
       "\n",
       "[8 rows x 75 columns]"
      ]
     },
     "execution_count": 18,
     "metadata": {},
     "output_type": "execute_result"
    }
   ],
   "source": [
    "extract.describe()"
   ]
  },
  {
   "cell_type": "code",
   "execution_count": 24,
   "metadata": {},
   "outputs": [],
   "source": [
    "extract.set_index('Date',inplace=True)\n",
    "                \n",
    "extract.index = pd.to_datetime(extract.index)\n"
   ]
  },
  {
   "cell_type": "code",
   "execution_count": 43,
   "metadata": {},
   "outputs": [
    {
     "data": {
      "image/png": "[encoded data removed]",
      "text/plain": [
       "<Figure size 76x76 with 1 Axes>"
      ]
     },
     "metadata": {
      "needs_background": "light"
     },
     "output_type": "display_data"
    }
   ],
   "source": [
    "fig = plt.figure(figsize=(1, 1),dpi=76,frameon=False)\n",
    "plt.legend('off')\n",
    "plt.axis('off')\n",
    "ax = sns.heatmap(extract,center=0,robust=True,cbar=False)\n"
   ]
  },
  {
   "cell_type": "code",
   "execution_count": 44,
   "metadata": {},
   "outputs": [],
   "source": [
    " fig.savefig(fname='heat_test.png',pad_inches=0,quality=100,format='png')#0"
   ]
  },
  {
   "cell_type": "code",
   "execution_count": null,
   "metadata": {},
   "outputs": [],
   "source": []
  }
 ],
 "metadata": {
  "environment": {
   "name": "tf2-2-2-gpu.2-2.m48",
   "type": "gcloud",
   "uri": "gcr.io/deeplearning-platform-release/tf2-2-2-gpu.2-2:m48"
  },
  "kernelspec": {
   "display_name": "Python 3",
   "language": "python",
   "name": "python3"
  },
  "language_info": {
   "codemirror_mode": {
    "name": "ipython",
    "version": 3
   },
   "file_extension": ".py",
   "mimetype": "text/x-python",
   "name": "python",
   "nbconvert_exporter": "python",
   "pygments_lexer": "ipython3",
   "version": "3.7.6"
  }
 },
 "nbformat": 4,
 "nbformat_minor": 4
}
