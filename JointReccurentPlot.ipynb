{
 "cells": [
  {
   "cell_type": "code",
   "execution_count": 3,
   "metadata": {},
   "outputs": [],
   "source": [
    "import pandas as pd\n",
    "import matplotlib.pyplot as plt\n",
    "import mplfinance as mpf\n",
    "import os\n",
    "from sklearn.preprocessing import MinMaxScaler\n",
    "import scraper\n",
    "import ta\n",
    "from PIL import Image\n",
    "from pyts.multivariate.image import JointRecurrencePlot\n",
    "from pyts.image import RecurrencePlot\n",
    "import numpy as np\n",
    "import datetime"
   ]
  },
  {
   "cell_type": "code",
   "execution_count": 4,
   "metadata": {},
   "outputs": [],
   "source": [
    "def fetch_csv(directory='/home/jupyter/',ticker='AMZN'):\n",
    "    try:\n",
    "        data = pd.read_csv(directory+'data-'+ticker+'.csv',sep='\\t') \n",
    "    except Exception:\n",
    "        print('Reading csv for ticker %s failed' %ticker)\n",
    "        try:\n",
    "            scraper.somethingScraper(directory=directory, ticker=ticker)\n",
    "        except Exception:\n",
    "            print('Scrapping failed for ticker %s ' %ticker)\n",
    "            data = pd.dataframe()\n",
    "        else:\n",
    "            data = pd.read_csv(directory+'data-'+ticker+'.csv',sep='\\t')\n",
    "    else:\n",
    "        print('Read csv for ticker %s successful' %ticker)\n",
    "    \n",
    "    return data"
   ]
  },
  {
   "cell_type": "code",
   "execution_count": 6,
   "metadata": {},
   "outputs": [],
   "source": [
    "def set_up_down(df):\n",
    "    df = df.copy()\n",
    "    df['Up'] = df['Close'] > df['Open']\n",
    "    df['NextDayUp'] = df.Up.shift(periods=-1)\n",
    "    return df"
   ]
  },
  {
   "cell_type": "code",
   "execution_count": 5,
   "metadata": {},
   "outputs": [
    {
     "name": "stdout",
     "output_type": "stream",
     "text": [
      "Read csv for ticker AMZN successful\n"
     ]
    }
   ],
   "source": [
    "data = fetch_csv()"
   ]
  },
  {
   "cell_type": "code",
   "execution_count": 6,
   "metadata": {},
   "outputs": [
    {
     "data": {
      "text/html": [
       "<div>\n",
       "<style scoped>\n",
       "    .dataframe tbody tr th:only-of-type {\n",
       "        vertical-align: middle;\n",
       "    }\n",
       "\n",
       "    .dataframe tbody tr th {\n",
       "        vertical-align: top;\n",
       "    }\n",
       "\n",
       "    .dataframe thead th {\n",
       "        text-align: right;\n",
       "    }\n",
       "</style>\n",
       "<table border=\"1\" class=\"dataframe\">\n",
       "  <thead>\n",
       "    <tr style=\"text-align: right;\">\n",
       "      <th></th>\n",
       "      <th>Date</th>\n",
       "      <th>Open</th>\n",
       "      <th>High</th>\n",
       "      <th>Low</th>\n",
       "      <th>Close</th>\n",
       "      <th>Adj Close</th>\n",
       "      <th>Volume</th>\n",
       "    </tr>\n",
       "  </thead>\n",
       "  <tbody>\n",
       "    <tr>\n",
       "      <th>0</th>\n",
       "      <td>1997-05-15</td>\n",
       "      <td>2.437500</td>\n",
       "      <td>2.500000</td>\n",
       "      <td>1.927083</td>\n",
       "      <td>1.958333</td>\n",
       "      <td>1.958333</td>\n",
       "      <td>72156000</td>\n",
       "    </tr>\n",
       "    <tr>\n",
       "      <th>1</th>\n",
       "      <td>1997-05-16</td>\n",
       "      <td>1.968750</td>\n",
       "      <td>1.979167</td>\n",
       "      <td>1.708333</td>\n",
       "      <td>1.729167</td>\n",
       "      <td>1.729167</td>\n",
       "      <td>14700000</td>\n",
       "    </tr>\n",
       "    <tr>\n",
       "      <th>2</th>\n",
       "      <td>1997-05-19</td>\n",
       "      <td>1.760417</td>\n",
       "      <td>1.770833</td>\n",
       "      <td>1.625000</td>\n",
       "      <td>1.708333</td>\n",
       "      <td>1.708333</td>\n",
       "      <td>6106800</td>\n",
       "    </tr>\n",
       "    <tr>\n",
       "      <th>3</th>\n",
       "      <td>1997-05-20</td>\n",
       "      <td>1.729167</td>\n",
       "      <td>1.750000</td>\n",
       "      <td>1.635417</td>\n",
       "      <td>1.635417</td>\n",
       "      <td>1.635417</td>\n",
       "      <td>5467200</td>\n",
       "    </tr>\n",
       "    <tr>\n",
       "      <th>4</th>\n",
       "      <td>1997-05-21</td>\n",
       "      <td>1.635417</td>\n",
       "      <td>1.645833</td>\n",
       "      <td>1.375000</td>\n",
       "      <td>1.427083</td>\n",
       "      <td>1.427083</td>\n",
       "      <td>18853200</td>\n",
       "    </tr>\n",
       "  </tbody>\n",
       "</table>\n",
       "</div>"
      ],
      "text/plain": [
       "         Date      Open      High       Low     Close  Adj Close    Volume\n",
       "0  1997-05-15  2.437500  2.500000  1.927083  1.958333   1.958333  72156000\n",
       "1  1997-05-16  1.968750  1.979167  1.708333  1.729167   1.729167  14700000\n",
       "2  1997-05-19  1.760417  1.770833  1.625000  1.708333   1.708333   6106800\n",
       "3  1997-05-20  1.729167  1.750000  1.635417  1.635417   1.635417   5467200\n",
       "4  1997-05-21  1.635417  1.645833  1.375000  1.427083   1.427083  18853200"
      ]
     },
     "execution_count": 6,
     "metadata": {},
     "output_type": "execute_result"
    }
   ],
   "source": [
    "data.head()"
   ]
  },
  {
   "cell_type": "code",
   "execution_count": 12,
   "metadata": {},
   "outputs": [],
   "source": [
    "df = data.drop(['Adj Close'],axis=1,inplace=False)\n",
    "df['Date']= pd.to_datetime(df['Date'])\n",
    "df['Date']=df['Date'].apply(lambda x: int(x.strftime(\"%Y%m%d\")))\n",
    "#df.set_index('Date',inplace=True)"
   ]
  },
  {
   "cell_type": "code",
   "execution_count": 21,
   "metadata": {},
   "outputs": [],
   "source": [
    "df = df.head(10)"
   ]
  },
  {
   "cell_type": "code",
   "execution_count": 22,
   "metadata": {},
   "outputs": [],
   "source": [
    "n1 = df[['Date','Open']].to_numpy()\n",
    "n2 = df[['Date','Close']].to_numpy()"
   ]
  },
  {
   "cell_type": "code",
   "execution_count": 23,
   "metadata": {},
   "outputs": [
    {
     "data": {
      "text/plain": [
       "array([[1.9970515e+07, 2.4375000e+00],\n",
       "       [1.9970516e+07, 1.9687500e+00],\n",
       "       [1.9970519e+07, 1.7604170e+00],\n",
       "       [1.9970520e+07, 1.7291670e+00],\n",
       "       [1.9970521e+07, 1.6354170e+00],\n",
       "       [1.9970522e+07, 1.4375000e+00],\n",
       "       [1.9970523e+07, 1.4062500e+00],\n",
       "       [1.9970527e+07, 1.5104170e+00],\n",
       "       [1.9970528e+07, 1.6250000e+00],\n",
       "       [1.9970529e+07, 1.5416670e+00]])"
      ]
     },
     "execution_count": 23,
     "metadata": {},
     "output_type": "execute_result"
    }
   ],
   "source": [
    "n1"
   ]
  },
  {
   "cell_type": "code",
   "execution_count": 24,
   "metadata": {},
   "outputs": [
    {
     "data": {
      "text/plain": [
       "(2, 10, 2)"
      ]
     },
     "execution_count": 24,
     "metadata": {},
     "output_type": "execute_result"
    }
   ],
   "source": [
    "t = np.stack((n1,n2))\n",
    "t.shape"
   ]
  },
  {
   "cell_type": "code",
   "execution_count": 25,
   "metadata": {},
   "outputs": [
    {
     "data": {
      "text/plain": [
       "array([[[1.9970515e+07, 2.4375000e+00],\n",
       "        [1.9970516e+07, 1.9687500e+00],\n",
       "        [1.9970519e+07, 1.7604170e+00],\n",
       "        [1.9970520e+07, 1.7291670e+00],\n",
       "        [1.9970521e+07, 1.6354170e+00],\n",
       "        [1.9970522e+07, 1.4375000e+00],\n",
       "        [1.9970523e+07, 1.4062500e+00],\n",
       "        [1.9970527e+07, 1.5104170e+00],\n",
       "        [1.9970528e+07, 1.6250000e+00],\n",
       "        [1.9970529e+07, 1.5416670e+00]],\n",
       "\n",
       "       [[1.9970515e+07, 1.9583330e+00],\n",
       "        [1.9970516e+07, 1.7291670e+00],\n",
       "        [1.9970519e+07, 1.7083330e+00],\n",
       "        [1.9970520e+07, 1.6354170e+00],\n",
       "        [1.9970521e+07, 1.4270830e+00],\n",
       "        [1.9970522e+07, 1.3958330e+00],\n",
       "        [1.9970523e+07, 1.5000000e+00],\n",
       "        [1.9970527e+07, 1.5833330e+00],\n",
       "        [1.9970528e+07, 1.5312500e+00],\n",
       "        [1.9970529e+07, 1.5052080e+00]]])"
      ]
     },
     "execution_count": 25,
     "metadata": {},
     "output_type": "execute_result"
    }
   ],
   "source": [
    "t"
   ]
  },
  {
   "cell_type": "code",
   "execution_count": null,
   "metadata": {},
   "outputs": [],
   "source": []
  },
  {
   "cell_type": "code",
   "execution_count": null,
   "metadata": {},
   "outputs": [],
   "source": []
  },
  {
   "cell_type": "code",
   "execution_count": null,
   "metadata": {},
   "outputs": [],
   "source": []
  },
  {
   "cell_type": "code",
   "execution_count": null,
   "metadata": {},
   "outputs": [],
   "source": []
  },
  {
   "cell_type": "code",
   "execution_count": null,
   "metadata": {},
   "outputs": [],
   "source": []
  },
  {
   "cell_type": "code",
   "execution_count": 26,
   "metadata": {},
   "outputs": [],
   "source": [
    "transformer = JointRecurrencePlot()\n",
    "X_new = transformer.transform(t)"
   ]
  },
  {
   "cell_type": "code",
   "execution_count": 27,
   "metadata": {},
   "outputs": [
    {
     "data": {
      "image/png": "[encoded data removed]",
      "text/plain": [
       "<Figure size 360x360 with 1 Axes>"
      ]
     },
     "metadata": {
      "needs_background": "light"
     },
     "output_type": "display_data"
    }
   ],
   "source": [
    "plt.figure(figsize=(5, 5))\n",
    "plt.imshow(X_new[0], cmap='binary', origin='lower')\n",
    "plt.title('Joint Recurrence Plot', fontsize=18)\n",
    "plt.tight_layout()\n",
    "plt.show()"
   ]
  },
  {
   "cell_type": "code",
   "execution_count": null,
   "metadata": {},
   "outputs": [],
   "source": []
  }
 ],
 "metadata": {
  "environment": {
   "name": "tf2-2-2-gpu.2-2.m48",
   "type": "gcloud",
   "uri": "gcr.io/deeplearning-platform-release/tf2-2-2-gpu.2-2:m48"
  },
  "kernelspec": {
   "display_name": "Python 3",
   "language": "python",
   "name": "python3"
  },
  "language_info": {
   "codemirror_mode": {
    "name": "ipython",
    "version": 3
   },
   "file_extension": ".py",
   "mimetype": "text/x-python",
   "name": "python",
   "nbconvert_exporter": "python",
   "pygments_lexer": "ipython3",
   "version": "3.7.6"
  }
 },
 "nbformat": 4,
 "nbformat_minor": 4
}
